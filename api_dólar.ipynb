{
  "nbformat": 4,
  "nbformat_minor": 0,
  "metadata": {
    "colab": {
      "name": "api dólar",
      "provenance": [],
      "authorship_tag": "ABX9TyOx3R/wRIDWHdbCxFyOrxTV",
      "include_colab_link": true
    },
    "kernelspec": {
      "name": "python3",
      "display_name": "Python 3"
    }
  },
  "cells": [
    {
      "cell_type": "markdown",
      "metadata": {
        "id": "view-in-github",
        "colab_type": "text"
      },
      "source": [
        "<a href=\"https://colab.research.google.com/github/thiagoramos20042/catacaodolar/blob/master/api_d%C3%B3lar.ipynb\" target=\"_parent\"><img src=\"https://colab.research.google.com/assets/colab-badge.svg\" alt=\"Open In Colab\"/></a>"
      ]
    },
    {
      "cell_type": "code",
      "metadata": {
        "id": "nLwveuTcYw3T",
        "colab_type": "code",
        "colab": {
          "base_uri": "https://localhost:8080/",
          "height": 68
        },
        "outputId": "d5338e51-6b7c-4304-f9df-2736d634b65b"
      },
      "source": [
        "import requests\n",
        "import json\n",
        "requisicao = requests.get('https://economia.awesomeapi.com.br/all/USD-BRL')\n",
        "cotacao = requisicao.json()\n",
        "#print(cotacao)\n",
        "print ('Moeda:' + cotacao['USD']['name'])\n",
        "print ('Data:'  + cotacao['USD']['create_date'])\n",
        "print('Valor atual: R$' + cotacao['USD']['bid'])\n"
      ],
      "execution_count": 1,
      "outputs": [
        {
          "output_type": "stream",
          "text": [
            "Moeda:Dólar Comercial\n",
            "Data:2020-09-01 12:10:25\n",
            "Valor atual: R$5.3668\n"
          ],
          "name": "stdout"
        }
      ]
    }
  ]
}